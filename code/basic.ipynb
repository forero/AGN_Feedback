{
 "metadata": {
  "name": ""
 },
 "nbformat": 3,
 "nbformat_minor": 0,
 "worksheets": [
  {
   "cells": [
    {
     "cell_type": "code",
     "collapsed": false,
     "input": [
      "%pylab inline"
     ],
     "language": "python",
     "metadata": {},
     "outputs": [
      {
       "output_type": "stream",
       "stream": "stdout",
       "text": [
        "Populating the interactive namespace from numpy and matplotlib\n"
       ]
      }
     ],
     "prompt_number": 1
    },
    {
     "cell_type": "code",
     "collapsed": false,
     "input": [
      "G_gravity = 6.6E-11 #mks\n",
      "c_light = 1.0E8 #mks\n",
      "Msun_in_kg = 1.9E30\n",
      "km_in_m = 1.0E3\n",
      "parsec_in_m = 3.0e16 \n",
      "parsec_in_ld = 1191.2 #light days"
     ],
     "language": "python",
     "metadata": {},
     "outputs": [],
     "prompt_number": 2
    },
    {
     "cell_type": "code",
     "collapsed": false,
     "input": [
      "G_gravity_km_msun = G_gravity * km_in_m**3 / Msun_in_kg"
     ],
     "language": "python",
     "metadata": {},
     "outputs": [],
     "prompt_number": 3
    },
    {
     "cell_type": "code",
     "collapsed": false,
     "input": [
      "def r_s(mass=1.0):\n",
      "    return 2.0*mass*G_gravity/(c_light**2)"
     ],
     "language": "python",
     "metadata": {},
     "outputs": [],
     "prompt_number": 4
    },
    {
     "cell_type": "code",
     "collapsed": false,
     "input": [
      "M_BH = 10**7.5\n",
      "print M_BH\n",
      "#M_BH = 1.9e6\n",
      "r_s_BH = r_s(mass = M_BH*Msun_in_kg)\n",
      "r_s_BH_pc = r_s_BH/parsec_in_m"
     ],
     "language": "python",
     "metadata": {},
     "outputs": [
      {
       "output_type": "stream",
       "stream": "stdout",
       "text": [
        "31622776.6017\n"
       ]
      }
     ],
     "prompt_number": 6
    },
    {
     "cell_type": "code",
     "collapsed": false,
     "input": [
      "print r_s_BH_pc * parsec_in_ld #corresponding schwarzchild radius in light days"
     ],
     "language": "python",
     "metadata": {},
     "outputs": [
      {
       "output_type": "stream",
       "stream": "stdout",
       "text": [
        "0.0314913270439\n"
       ]
      }
     ],
     "prompt_number": 7
    },
    {
     "cell_type": "code",
     "collapsed": false,
     "input": [
      "M_out = array([0.15,0.12, 0.08, 0.27, 0.38, 0.33, 0.12,0.07])* 1.0e25 # gr/sec \n",
      "v_peak = array([20078.0, 14440.0, 10660.0, 7762.0, 5907.0, 4605.0,1744.0, 908.0]) #km/s\n",
      "L_AGN = ones(size(M_out))*1.5e43 #erg/s\n",
      "\n",
      "p_ratio = M_out*v_peak*1.0e3/(L_AGN / 1.0E10)\n",
      "e_ratio = 0.5*M_out*(v_peak*1.0e3)**2.0/L_AGN\n",
      "\n",
      "print M_out * v_peak**2 * 1e6\n",
      "log_x_range = linspace(2.0,5.0,100)\n",
      "v_in = 0.1*c_light/1000.0\n",
      "log_ratio_theory = - log_x_range + log10(v_in/2.0) "
     ],
     "language": "python",
     "metadata": {},
     "outputs": [
      {
       "output_type": "stream",
       "stream": "stdout",
       "text": [
        "[  6.04689126e+38   2.50216320e+38   9.09084800e+37   1.62671339e+38\n",
        "   1.32592066e+38   6.99798825e+37   3.64984320e+36   5.77124800e+35]\n"
       ]
      }
     ],
     "prompt_number": 8
    },
    {
     "cell_type": "code",
     "collapsed": false,
     "input": [
      "fig = figure(1, figsize=(9.5,6.5))\n",
      "ax = axes()\n",
      "ax.set_xscale('log')\n",
      "ax.set_yscale('log')\n",
      "ax.set_xlabel(\"$\\dot{P}/ (L_{\\mathrm{AGN}}/c)$\",fontsize=25)\n",
      "ax.set_ylabel(\"$\\dot{E}/ L_{\\mathrm{AGN}}$\",fontsize=25)\n",
      "ticklabels_x = ax.get_xticklabels()\n",
      "ticklabels_y = ax.get_yticklabels()\n",
      "\n",
      "for label_x in ticklabels_x:\n",
      "    label_x.set_fontsize(18)\n",
      "    label_x.set_family('serif')\n",
      "for label_y in ticklabels_y:\n",
      "    label_y.set_fontsize(18)\n",
      "    label_y.set_family('serif')\n",
      "scatter(p_ratio, e_ratio,s=100)\n",
      "\n",
      "filename='ep_ratio'\n",
      "\n",
      "savefig(filename + '.eps',format = 'eps', transparent=True)\n",
      "savefig(filename + '.pdf',format = 'pdf', transparent=True)\n",
      "savefig(filename + '.png',format = 'png', transparent=True)"
     ],
     "language": "python",
     "metadata": {},
     "outputs": [
      {
       "metadata": {},
       "output_type": "display_data",
       "png": "[encoded data removed]",
       "text": [
        "<matplotlib.figure.Figure at 0x35c1ad0>"
       ]
      }
     ],
     "prompt_number": 24
    },
    {
     "cell_type": "code",
     "collapsed": false,
     "input": [],
     "language": "python",
     "metadata": {},
     "outputs": []
    }
   ],
   "metadata": {}
  }
 ]
}